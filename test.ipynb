{
 "cells": [
  {
   "cell_type": "code",
   "execution_count": 1,
   "metadata": {},
   "outputs": [],
   "source": [
    "from MLP import *"
   ]
  },
  {
   "cell_type": "markdown",
   "metadata": {},
   "source": [
    "## Test MLP for XOR Problem"
   ]
  },
  {
   "cell_type": "code",
   "execution_count": 3,
   "metadata": {},
   "outputs": [
    {
     "name": "stdout",
     "output_type": "stream",
     "text": [
      "Progress: 100.00%, Current Error: 0.002066957782048351\n",
      "\n",
      "  [[-0.99740687]\n",
      " [ 0.99795873]\n",
      " [ 0.99777578]\n",
      " [-0.99860638]]\n"
     ]
    }
   ],
   "source": [
    "inputs = np.array([[0.0, 0.0,], [0.0,1.0],[1.0,0.0],[1.0,1.0]])\n",
    "outputs = np.array([[-1.0],[1.0],[1.0],[-1.0]])\n",
    "\n",
    "mlp = create_network([1,4,20,1], tanh)\n",
    "mlp.train(inputs, outputs, learning_rate = 0.1, epochs = 500 )\n",
    "print(\"\\n \", mlp.evaluate(inputs))"
   ]
  },
  {
   "cell_type": "markdown",
   "metadata": {},
   "source": [
    "Higher dimensional example"
   ]
  },
  {
   "cell_type": "code",
   "execution_count": 4,
   "metadata": {},
   "outputs": [
    {
     "name": "stdout",
     "output_type": "stream",
     "text": [
      "Progress: 100.00%, Current Error: 0.01655085015690816\n",
      "\n",
      "  [[-0.72034412 -0.72411045]\n",
      " [-0.72619824  0.79013426]\n",
      " [ 0.75275004  0.8031564 ]\n",
      " [-0.70411844 -0.71931423]\n",
      " [ 0.78041007 -0.71372382]\n",
      " [-0.7097169   0.79836273]\n",
      " [ 0.82539017  0.76887357]\n",
      " [-0.71613765 -0.71899691]\n",
      " [ 0.78360221  0.79500847]\n",
      " [-0.7095238   0.79257321]\n",
      " [-0.73157843 -0.71943636]]\n"
     ]
    }
   ],
   "source": [
    "inputs = np.array([[0.1 ,0.1 ,0.1, 0.1  ] , \n",
    "[0.1, 0.1, 0.1, 0.9   ],\n",
    "[0.1, 0.1 ,0.9, 0.1  ]  ,\n",
    "[0.1, 0.1, 0.9 ,0.9  ] ,\n",
    "[0.1, 0.9, 0.1 ,0.1  ],\n",
    "[0.1, 0.9, 0.1, 0.9 ],\n",
    "[0.1, 0.9, 0.9, 0.1 ],\n",
    "[0.1, 0.9, 0.9, 0.9 ]  ,\n",
    "[0.9, 0.1, 0.1, 0.1 ],\n",
    "[0.9, 0.1, 0.9, 0.9 ],\n",
    "[0.9, 0.1 ,0.9, 0.1 ]])\n",
    "outputs = np.array( [[-0.7, -0.7],\n",
    "    [-0.7,  0.8],\n",
    "    [ 0.8 , 0.8],\n",
    "    [ -0.7, -0.7],\n",
    "    [ 0.8, -0.7],\n",
    "    [-0.7 , 0.8],\n",
    "    [0.8,  0.8],\n",
    "    [-0.7 ,-0.7],\n",
    "    [0.8,  0.8],\n",
    "    [-0.7 , 0.8],\n",
    "    [-0.7, -0.7]])\n",
    "\n",
    "\n",
    "mlp = create_network([4,4,20,2], tanh)\n",
    "mlp.train(inputs, outputs, learning_rate = 0.1, epochs = 500 )\n",
    "print(\"\\n \", mlp.evaluate(inputs))"
   ]
  },
  {
   "cell_type": "markdown",
   "metadata": {},
   "source": [
    "## Auto-Encoder"
   ]
  },
  {
   "cell_type": "code",
   "execution_count": 8,
   "metadata": {},
   "outputs": [
    {
     "name": "stdout",
     "output_type": "stream",
     "text": [
      "Progress: 100.00%, Current Error: 0.01255\n",
      "\n",
      "  [[1. 0. 0. 0. 0. 0. 0. 0.]\n",
      " [0. 1. 0. 0. 0. 0. 0. 0.]\n",
      " [0. 0. 1. 0. 0. 0. 0. 0.]\n",
      " [0. 0. 0. 1. 0. 0. 0. 0.]\n",
      " [0. 0. 0. 0. 1. 0. 0. 0.]\n",
      " [0. 0. 0. 0. 0. 1. 0. 0.]\n",
      " [0. 0. 0. 0. 0. 0. 1. 0.]\n",
      " [0. 0. 0. 0. 0. 0. 0. 1.]]\n",
      "Hidden Neurons\n",
      "\n",
      "  [[1. 0. 1.]\n",
      " [1. 1. 1.]\n",
      " [0. 1. 1.]\n",
      " [1. 0. 0.]\n",
      " [1. 1. 0.]\n",
      " [0. 1. 0.]\n",
      " [0. 0. 1.]\n",
      " [0. 0. 0.]]\n"
     ]
    }
   ],
   "source": [
    "inputs, outputs = np.eye(8), np.eye(8)\n",
    "mlp = create_network([8,3,8], sgn)\n",
    "mlp.train(inputs, outputs, learning_rate = 0.1, epochs = 4000 )\n",
    "print(\"\\n \", mlp.evaluate(inputs))\n",
    "print(\"Hidden Neurons\")\n",
    "print(\"\\n \", mlp.hidden_states(inputs))"
   ]
  }
 ],
 "metadata": {
  "kernelspec": {
   "display_name": "Python 3.9.6 64-bit",
   "language": "python",
   "name": "python3"
  },
  "language_info": {
   "codemirror_mode": {
    "name": "ipython",
    "version": 3
   },
   "file_extension": ".py",
   "mimetype": "text/x-python",
   "name": "python",
   "nbconvert_exporter": "python",
   "pygments_lexer": "ipython3",
   "version": "3.9.6"
  },
  "orig_nbformat": 4,
  "vscode": {
   "interpreter": {
    "hash": "00772da745125251872b1142a666f2591652716d47b14dd7fc627fae217aaf12"
   }
  }
 },
 "nbformat": 4,
 "nbformat_minor": 2
}
